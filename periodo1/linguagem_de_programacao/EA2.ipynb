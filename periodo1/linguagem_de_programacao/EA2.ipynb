{
 "cells": [
  {
   "attachments": {},
   "cell_type": "markdown",
   "metadata": {},
   "source": [
    "# Estrutura de dados"
   ]
  },
  {
   "attachments": {},
   "cell_type": "markdown",
   "metadata": {},
   "source": [
    "### Texto"
   ]
  },
  {
   "cell_type": "code",
   "execution_count": 2,
   "metadata": {},
   "outputs": [
    {
     "name": "stdout",
     "output_type": "stream",
     "text": [
      "Tamanho da string: 80\n",
      "Tem a palavra bolo no texto? False\n",
      "Quantidade da letra 'a' ou 'A': 8\n",
      "Os 5 primeiros caracteres: O que\n",
      "Os 5 últimos caracteres: amam?\n",
      "Onde começa a palavra 'pessoas'? 22\n",
      "Dividindo o texto em listas: ['O', 'que', 'são', 'uma', 'ou', 'duas', 'pessoas', 'ruins', 'para', '100', 'milhões', 'de', 'brasileiros', 'que', 'me', 'amam?']\n"
     ]
    }
   ],
   "source": [
    "# Objetos do tipo sequência\n",
    "\n",
    "texto = \"O que são uma ou duas pessoas ruins para 100 milhões de brasileiros que me amam?\"\n",
    "\n",
    "print(f\"Tamanho da string: {len(texto)}\")\n",
    "print(f\"Tem a palavra bolo no texto? {'bolo' in texto}\")\n",
    "print(f\"Quantidade da letra 'a' ou 'A': {texto.lower().count('a')}\")\n",
    "print(f\"Os 5 primeiros caracteres: {texto[:5]}\")\n",
    "print(f\"Os 5 últimos caracteres: {texto[-5:]}\")\n",
    "print(f\"Onde começa a palavra 'pessoas'? {texto.find('pessoas')}\")\n",
    "print(f\"Dividindo o texto em listas: {texto.split(' ')}\")\n"
   ]
  },
  {
   "attachments": {},
   "cell_type": "markdown",
   "metadata": {},
   "source": [
    "### List"
   ]
  },
  {
   "cell_type": "code",
   "execution_count": 22,
   "metadata": {},
   "outputs": [
    {
     "name": "stdout",
     "output_type": "stream",
     "text": [
      "[0, 1, 2, 3, 4, 5, 6, 7, 8, 9]\n",
      "<class 'list'>\n"
     ]
    }
   ],
   "source": [
    "## Criando uma lista com list\n",
    "lista_numeros = list(range(0,10))\n",
    "\n",
    "print(lista_numeros)\n",
    "#Resultado: [0, 1, 2, 3, 4, 5, 6, 7, 8, 9]\n",
    "\n",
    "print(type(lista_numeros))\n",
    "#Resultado: <class 'list'>"
   ]
  },
  {
   "cell_type": "code",
   "execution_count": 3,
   "metadata": {},
   "outputs": [
    {
     "name": "stdout",
     "output_type": "stream",
     "text": [
      "Posição da letra 'e': 1\n",
      "Posição da letra 'a': 0\n",
      "Posição da letra 'e': 1\n",
      "Posição da letra 'i': 2\n",
      "Posição da letra 'o': 3\n",
      "Posição da letra 'u': 4\n"
     ]
    }
   ],
   "source": [
    "# Função index: retorna a posição de um valor em uma lista\n",
    "\n",
    "vogais = ['a', 'e', 'i', 'o', 'u']\n",
    "\n",
    "print(f\"Posição da letra 'e': {vogais.index('e')}\")\n",
    "\n",
    "for vogal in vogais:\n",
    "    print(f\"Posição da letra '{vogal}': {vogais.index(vogal)}\")"
   ]
  },
  {
   "cell_type": "code",
   "execution_count": 7,
   "metadata": {},
   "outputs": [
    {
     "name": "stdout",
     "output_type": "stream",
     "text": [
      "Lista de linguagens: \n",
      " ['Python', 'C', 'C++', 'JavaScript']\n",
      "Lista de linguagens em maiúsculo: \n",
      " ['PYTHON', 'C', 'C++', 'JAVASCRIPT']\n"
     ]
    }
   ],
   "source": [
    "# Usando list comprehension\n",
    "\n",
    "linguagens = ['Python', 'C', 'C++', 'JavaScript']\n",
    "\n",
    "print(f\"Lista de linguagens: \\n {linguagens}\")\n",
    "\n",
    "linguagens_maiusculas = [linguagem.upper() for linguagem in linguagens]\n",
    "\n",
    "print(f\"Lista de linguagens em maiúsculo: \\n {linguagens_maiusculas}\")\n"
   ]
  },
  {
   "cell_type": "code",
   "execution_count": 21,
   "metadata": {},
   "outputs": [
    {
     "name": "stdout",
     "output_type": "stream",
     "text": [
      "Itens já calculados com 10%: [11.0, 22.0, 33.0, 44.0]\n"
     ]
    }
   ],
   "source": [
    "# Explicando função map\n",
    "\n",
    "conta_por_pessoa_mesa1 = [10, 20, 30, 40]\n",
    "\n",
    "def add10porcento(valor):\n",
    "    return valor * 1.1\n",
    "\n",
    "## Jeito manual de fazer, sem map\n",
    "\n",
    "conta_por_pessoa_com_10_porcento = []\n",
    "\n",
    "for item in conta_por_pessoa_mesa1:\n",
    "    conta_por_pessoa_com_10_porcento.append(add10porcento(item))\n",
    "\n",
    "print(f\"Itens já calculados com 10%: {conta_por_pessoa_com_10_porcento}\")"
   ]
  },
  {
   "cell_type": "code",
   "execution_count": 20,
   "metadata": {},
   "outputs": [
    {
     "name": "stdout",
     "output_type": "stream",
     "text": [
      "Total com 10%: [11.0, 22.0, 33.0, 44.0]\n"
     ]
    }
   ],
   "source": [
    "# Explicando funcao map\n",
    "\n",
    "conta_final_mesa2 = [10, 20, 30, 40]\n",
    "\n",
    "def adicionar10porcento(valor):\n",
    "    return valor * 1.1\n",
    "\n",
    "total_com_10_porcento = list(map(adicionar10porcento, conta_final_mesa2))\n",
    "\n",
    "print(f\"Total com 10%: {total_com_10_porcento}\")"
   ]
  },
  {
   "cell_type": "code",
   "execution_count": 27,
   "metadata": {},
   "outputs": [
    {
     "name": "stdout",
     "output_type": "stream",
     "text": [
      "Números pares: [2, 4, 6, 8, 10]\n"
     ]
    }
   ],
   "source": [
    "## Função filter\n",
    "\n",
    "numeros = [1, 2, 3, 4, 5, 6, 7, 8, 9, 10]\n",
    "\n",
    "def eh_par(numero):\n",
    "    return numero % 2 == 0\n",
    "\n",
    "numeros_pares = list(filter(eh_par, numeros))\n",
    "\n",
    "print(f\"Números pares: {numeros_pares}\")\n",
    "\n",
    "# Output: Números pares: [2, 4, 6, 8, 10]\n"
   ]
  },
  {
   "attachments": {},
   "cell_type": "markdown",
   "metadata": {},
   "source": [
    "### Dicionários"
   ]
  },
  {
   "cell_type": "code",
   "execution_count": null,
   "metadata": {},
   "outputs": [],
   "source": [
    "# Exemplo de dicionário: criando um vazio e adicionando valores\n",
    "\n",
    "pessoa1 = {}\n",
    "\n",
    "pessoa1['nome'] = 'João'\n",
    "pessoa1['idade'] = 25\n"
   ]
  },
  {
   "cell_type": "code",
   "execution_count": null,
   "metadata": {},
   "outputs": [],
   "source": [
    "# Exp de dicionário: usando um par chave-valor\n",
    "\n",
    "pessoa2 = {'nome': 'João', 'idade': 25}"
   ]
  },
  {
   "cell_type": "code",
   "execution_count": null,
   "metadata": {},
   "outputs": [],
   "source": [
    "# Exp de dicionário com lista de tuplas\n",
    "## Cada tupla é uma chave-valor\n",
    "\n",
    "pessoa3 = dict([('nome', 'João'), ('idade', 25)])\n"
   ]
  }
 ],
 "metadata": {
  "kernelspec": {
   "display_name": "Python 3",
   "language": "python",
   "name": "python3"
  },
  "language_info": {
   "codemirror_mode": {
    "name": "ipython",
    "version": 3
   },
   "file_extension": ".py",
   "mimetype": "text/x-python",
   "name": "python",
   "nbconvert_exporter": "python",
   "pygments_lexer": "ipython3",
   "version": "3.10.6"
  },
  "orig_nbformat": 4
 },
 "nbformat": 4,
 "nbformat_minor": 2
}
