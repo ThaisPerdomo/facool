{
 "cells": [
  {
   "attachments": {},
   "cell_type": "markdown",
   "metadata": {},
   "source": [
    "Aqui, vamos usar o código 1 para todos os códigos. Importante dar play nele para dar play em qualquer outro"
   ]
  },
  {
   "attachments": {},
   "cell_type": "markdown",
   "metadata": {},
   "source": [
    "\n",
    "# POO: Herança, polimorfismo e o método __str__"
   ]
  },
  {
   "attachments": {},
   "cell_type": "markdown",
   "metadata": {},
   "source": [
    "## Classes principais e o método str:"
   ]
  },
  {
   "cell_type": "code",
   "execution_count": 3,
   "metadata": {},
   "outputs": [
    {
     "name": "stdout",
     "output_type": "stream",
     "text": [
      "Nome: The Office - Ano: 2001 - Temporadas: 5\n"
     ]
    }
   ],
   "source": [
    "class Programa: \n",
    "    def __init__(self, titulo, ano):\n",
    "        self._titulo = titulo.title()\n",
    "        self.ano = ano\n",
    "        self._likes = 0\n",
    "    \n",
    "    @property\n",
    "    def titulo(self):\n",
    "        return self._titulo\n",
    "\n",
    "    @property\n",
    "    def likes(self):\n",
    "        return self._likes\n",
    "    \n",
    "    def darlike(self):\n",
    "        self._likes += 1\n",
    "    \n",
    "    def __str__(self):\n",
    "        return f'{self.titulo} - {self.ano} - {self.likes} Likes'\n",
    "    ## Aqui, temos o método __str__ que é chamado quando queremos exibir o objeto Programa como uma string\n",
    "   \n",
    "class Filme(Programa):\n",
    "\n",
    "    def __init__(self, titulo, ano, duracao):\n",
    "        super().__init__(titulo, ano)\n",
    "        self.duracao = duracao\n",
    "    \n",
    "    def __str__(self):\n",
    "        return f'{self.titulo} - {self.ano} - {self.duracao} min - {self.likes} Likes'\n",
    "    ## Devemos sobrescrever o método __str__ da classe mãe, pois o método __str__ da classe mãe não exibe o atributo duracao\n",
    "\n",
    "class Serie(Programa):\n",
    "\n",
    "    def __init__(self, titulo, ano, temporadas):\n",
    "        super().__init__(titulo, ano)\n",
    "        self.temporadas = temporadas\n",
    "\n",
    "    def __str__(self):\n",
    "        return f'{self.titulo} - {self.ano} - {self.temporadas} Temporadas - {self.likes} Likes'\n",
    "\n",
    "# Criando objetos: \n",
    "\n",
    "filme1 = Filme('Legalmente Loira', 2003, 160)\n",
    "\n",
    "serie1 = Serie('the office', 2001, 5)\n",
    "\n",
    "# Exibindo um objeto \n",
    "print(f'Nome: {serie1.titulo} - Ano: {serie1.ano} - Temporadas: {serie1.temporadas}')\n",
    "\n",
    "# Criando uma lista de programas.\n",
    "lista_de_programas = [filme1, serie1]\n"
   ]
  },
  {
   "attachments": {},
   "cell_type": "markdown",
   "metadata": {},
   "source": [
    "Não dar play: \n",
    "Exibindo uma string com lista dos objetos que pertencem a classe mãe: se não tivesse o método __str__:"
   ]
  },
  {
   "cell_type": "code",
   "execution_count": null,
   "metadata": {},
   "outputs": [],
   "source": [
    "print(\"Lista de programas:\")\n",
    "\n",
    "for programa in lista_de_programas: # Aqui, criamos um loop para percorrer a lista de programas\n",
    "\n",
    "    # Aqui, temos um porém: o objeto filme não tem o atributo temporadas e o objeto série não tem o atributo duração\n",
    "    # Então, como podemos exibir um loop que exiba os atributos de cada objeto? Simples: usamos o hasattr()\n",
    "\n",
    "    atributo_classe_filha = programa.duracao if hasattr(programa, 'duracao') else programa.temporadas\n",
    "    # Aqui, atribuímos à variável atributo_classe_filha o valor do atributo duracao SE o objeto programa tiver o atributo duracao, relativo à classe Filme\t\n",
    "    # Caso contrário, atribuímos o valor do atributo temporadas, relativo à classe Serie\n",
    "    \n",
    "    print(f'{programa.titulo} - {atributo_classe_filha} D - {programa.likes}')"
   ]
  },
  {
   "attachments": {},
   "cell_type": "markdown",
   "metadata": {},
   "source": [
    "Exibindo uma string com lista dos objetos que pertencem a classe mãe: com o uso do método __str__:"
   ]
  },
  {
   "cell_type": "code",
   "execution_count": null,
   "metadata": {},
   "outputs": [],
   "source": [
    "lista_de_programas = [filme1, serie1]\n",
    "\n",
    "print(\"Lista de todos os programas:\")\n",
    "for programa in lista_de_programas:\n",
    "    print(programa)"
   ]
  },
  {
   "attachments": {},
   "cell_type": "markdown",
   "metadata": {},
   "source": [
    "## Criando uma classe que é uma playlist de programas:"
   ]
  },
  {
   "attachments": {},
   "cell_type": "markdown",
   "metadata": {},
   "source": [
    "Não dar play: Herdando da classe build-in list a iteração para fazer essa classe como se fosse uma lista"
   ]
  },
  {
   "cell_type": "code",
   "execution_count": null,
   "metadata": {},
   "outputs": [],
   "source": [
    "class Playlist(list):\n",
    "    def __init__(self, nome, programas):\n",
    "        self.nome = nome\n",
    "        super().__init__(programas)    # Aqui, estamos chamando o construtor da classe mãe, que é a classe list. \n",
    "        # O construtor da classe list recebe como parâmetro uma lista de objetos, que serão os elementos da playlist\n",
    "\n",
    "playlist_do_dia = Playlist('Playlist do dia', lista_de_programas) \n",
    "# Aqui, criamos um objeto do tipo Playlist que recebe como parâmetro o nome da playlist e a lista de programas\n",
    "# Sendo que a lista de programas é uma lista de objetos do tipo Programa\n",
    "\n",
    "print(f'Tamanho da playlist do dia: {len(playlist_do_dia)}')\n",
    " \n",
    "print(\"Playlist do dia:\")\n",
    "for programa in playlist_do_dia:\n",
    "    print(programa)"
   ]
  },
  {
   "attachments": {},
   "cell_type": "markdown",
   "metadata": {},
   "source": [
    "Boa prática: Não usar herança e sim tornar o objeto em questão iterável"
   ]
  },
  {
   "cell_type": "code",
   "execution_count": 4,
   "metadata": {},
   "outputs": [
    {
     "name": "stdout",
     "output_type": "stream",
     "text": [
      "Tamanho da playlist do dia: 2\n",
      "Playlist do dia:\n",
      "Legalmente Loira - 2003 - 160 min - 0 Likes\n",
      "The Office - 2001 - 5 Temporadas - 0 Likes\n"
     ]
    }
   ],
   "source": [
    "class Playlist:\n",
    "    def __init__(self, nome, programas):\n",
    "        self.nome = nome\n",
    "        self._programas = programas\n",
    "\n",
    "    def __getitem__(self, item):\n",
    "        return self._programas[item]\n",
    "\n",
    "    def __len__(self):\n",
    "        return len(self._programas)\n",
    "\n",
    "print(f'Tamanho da playlist do dia: {len(playlist_do_dia)}')\n",
    " \n",
    "print(\"Playlist do dia:\")\n",
    "for programa in playlist_do_dia:\n",
    "    print(programa)"
   ]
  }
 ],
 "metadata": {
  "kernelspec": {
   "display_name": "Python 3",
   "language": "python",
   "name": "python3"
  },
  "language_info": {
   "codemirror_mode": {
    "name": "ipython",
    "version": 3
   },
   "file_extension": ".py",
   "mimetype": "text/x-python",
   "name": "python",
   "nbconvert_exporter": "python",
   "pygments_lexer": "ipython3",
   "version": "3.10.6"
  },
  "orig_nbformat": 4
 },
 "nbformat": 4,
 "nbformat_minor": 2
}
