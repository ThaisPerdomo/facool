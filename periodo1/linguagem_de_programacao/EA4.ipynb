{
 "cells": [
  {
   "attachments": {},
   "cell_type": "markdown",
   "metadata": {},
   "source": [
    "# POO"
   ]
  },
  {
   "attachments": {},
   "cell_type": "markdown",
   "metadata": {},
   "source": [
    "### Exemplo sem poo e classe vazia"
   ]
  },
  {
   "cell_type": "code",
   "execution_count": 5,
   "metadata": {},
   "outputs": [
    {
     "name": "stdout",
     "output_type": "stream",
     "text": [
      "Saldo é 75.0\n",
      "Saldo é 65.0\n"
     ]
    }
   ],
   "source": [
    "# Sem POO: \n",
    "\n",
    "def cria_conta(numero, titular, saldo, limite):\n",
    "    conta = {\"numero\": numero, \"titular\": titular, \"saldo\": saldo, \"limite\": limite}\n",
    "    return conta\n",
    "\n",
    "def deposita(conta, valor):\n",
    "    conta[\"saldo\"] += valor\n",
    "\n",
    "def saca(conta, valor):\n",
    "    conta[\"saldo\"] -= valor\n",
    "\n",
    "def extrato(conta):\n",
    "    print(f\"Saldo é {conta['saldo']}\")\n",
    "\n",
    "\n",
    "conta = cria_conta(123, \"Nico\", 55.0, 1000.0)\n",
    "\n",
    "deposita(conta, 20)\n",
    "\n",
    "extrato(conta)\n",
    "\n",
    "saca(conta, 10)\n",
    "\n",
    "extrato(conta)"
   ]
  },
  {
   "cell_type": "code",
   "execution_count": 11,
   "metadata": {},
   "outputs": [
    {
     "name": "stdout",
     "output_type": "stream",
     "text": [
      "<__main__.Conta object at 0x000001CD23BA77C0>\n"
     ]
    }
   ],
   "source": [
    "## Criando uma classe vazia\n",
    "\n",
    "class Conta1:\n",
    "    \n",
    "    pass \n",
    "\n",
    "# pass é uma palavra reservada do Python que diz que não há nada dentro da classe\n",
    "\n",
    "conta1 = Conta1()\n",
    "print(conta1)"
   ]
  },
  {
   "attachments": {},
   "cell_type": "markdown",
   "metadata": {},
   "source": [
    "### Construtor e métodos"
   ]
  },
  {
   "cell_type": "code",
   "execution_count": 31,
   "metadata": {},
   "outputs": [
    {
     "name": "stdout",
     "output_type": "stream",
     "text": [
      "21/11/2007\n"
     ]
    }
   ],
   "source": [
    "# Exercício: imprimindo datas \n",
    "\n",
    "class Data:\n",
    "    def __init__(self, dia, mes, ano):\n",
    "        self.dia = dia\n",
    "        self.mes = mes\n",
    "        self.ano = ano\n",
    "    \n",
    "    def formatada(self):\n",
    "        print(f\"{self.dia}/{self.mes}/{self.ano}\")\n",
    "\n",
    "d = Data(21,11,2007)\n",
    "\n",
    "d.formatada()"
   ]
  },
  {
   "cell_type": "code",
   "execution_count": 21,
   "metadata": {},
   "outputs": [
    {
     "name": "stdout",
     "output_type": "stream",
     "text": [
      "Saldo da conta: 1000\n",
      "Saque de 100 realizado com sucesso da conta de Nico\n",
      "Depósito de 100 realizado com sucesso na conta de Thais\n",
      "Saldo do titular Nico é 900\n",
      "Saldo do titular Thais é 200\n"
     ]
    }
   ],
   "source": [
    "class Conta():\n",
    "    def __init__(self, numero, titular, saldo, limite = 1000): # A definição do limite no parâmetro cria um valor padrão pra quando não é definido \n",
    "        self.__numero = numero #Os underlines representa um atributo privado, que só vai conseguir acessar pelos métodos\n",
    "        self.__titular = titular \n",
    "        self.__saldo = saldo\n",
    "        self.__limite = limite\n",
    "\n",
    "    def extrato(self): \n",
    "        print(f\"Saldo do titular {self.__titular} é {self.__saldo}\")\n",
    "\n",
    "    def deposito(self, valor):\n",
    "        self.__saldo += valor\n",
    "        print(f\"Depósito de {valor} realizado com sucesso na conta de {self.__titular}\")\n",
    "    \n",
    "    def saque(self, valor):\n",
    "        self.__saldo -= valor\n",
    "        print(f\"Saque de {valor} realizado com sucesso da conta de {self.__titular}\")\n",
    "\n",
    "    def transfere(self, valor, destino):\n",
    "        self.saque(valor)\n",
    "        destino.deposito(valor)\n",
    "        self.extrato()\n",
    "        destino.extrato()\n",
    "\n",
    "\n",
    "conta001 = Conta(1234, \"Nico\", 555.0, 1000.0)\n",
    "conta002 = Conta(1235, \"Thais\", 100)\n",
    "conta001._Conta__saldo = 1000 # Acessando o atributo privado, mas não é uma boa prática\n",
    "\n",
    "print(f\"Saldo da conta: {conta001._Conta__saldo}\")\n",
    "\n",
    "conta001.transfere(100, conta002)\n"
   ]
  },
  {
   "attachments": {},
   "cell_type": "markdown",
   "metadata": {},
   "source": [
    "### Getters e Setters"
   ]
  },
  {
   "cell_type": "code",
   "execution_count": 31,
   "metadata": {},
   "outputs": [
    {
     "name": "stdout",
     "output_type": "stream",
     "text": [
      "Name: Morpheu\n",
      "Old level: 1\n",
      "New level: 2\n"
     ]
    }
   ],
   "source": [
    "# Sem propriedades\n",
    "\n",
    "class Student: \n",
    "\n",
    "    def __init__(self, name, level = 1):\n",
    "        self.__name = name\n",
    "        self.__level = level\n",
    "\n",
    "    def get_name(self):\n",
    "        return self.__name\n",
    "    \n",
    "    def get_level(self):\n",
    "        return self.__level\n",
    "    \n",
    "    def set_level(self, new_level):\n",
    "        self.__level = new_level\n",
    "\n",
    "student001 = Student(\"Morpheu\")\n",
    "\n",
    "print(f\"Name: {student001.get_name()}\")\n",
    "print(f\"Old level: {student001.get_level()}\")\n",
    "student001.set_level(2)\n",
    "print(f\"New level: {student001.get_level()}\")\n",
    "\n"
   ]
  },
  {
   "cell_type": "code",
   "execution_count": 35,
   "metadata": {},
   "outputs": [
    {
     "name": "stdout",
     "output_type": "stream",
     "text": [
      "Chamando a property level()...\n"
     ]
    },
    {
     "data": {
      "text/plain": [
       "5"
      ]
     },
     "execution_count": 35,
     "metadata": {},
     "output_type": "execute_result"
    }
   ],
   "source": [
    "# Com propriedades\n",
    "\n",
    "class Estudante: \n",
    "\n",
    "    def __init__(self, name, level = 1):\n",
    "        self.__name = name\n",
    "        self.__level = level\n",
    "\n",
    "    def get_name(self):\n",
    "        return self.__name\n",
    "    \n",
    "    @property\n",
    "    def level(self):\n",
    "        print(\"Chamando a property level()...\")\n",
    "        return self.__level\n",
    "    \n",
    "    @level.setter\n",
    "    def level(self, new_level):\n",
    "        self.__level = new_level\n",
    "\n",
    "estudante001 = Estudante(\"Morpheu\")\n",
    "\n",
    "estudante001.level = 5\n",
    "\n",
    "estudante001.level"
   ]
  },
  {
   "attachments": {},
   "cell_type": "markdown",
   "metadata": {},
   "source": [
    "### Métodos privados"
   ]
  },
  {
   "cell_type": "code",
   "execution_count": 39,
   "metadata": {},
   "outputs": [
    {
     "name": "stdout",
     "output_type": "stream",
     "text": [
      "O valor 1500 passou o limite\n",
      "Saldo do titular Nico é 1000\n"
     ]
    }
   ],
   "source": [
    "class ContaSiteDeApostas:\n",
    "    def __init__(self, titular, saldo):\n",
    "        self.__titular = titular\n",
    "        self.__saldo = saldo\n",
    "        \n",
    "    \n",
    "    def deposito(self, valor):\n",
    "        self.__saldo += valor\n",
    "\n",
    "    def __pode_sacar(self, valor_saque): # Método privado, só pode ser acessado dentro da classe\n",
    "        valor_disponivel = self.__saldo\n",
    "        return valor_saque <= valor_disponivel ## Retorna um booleano true, se o valor do saque for menor ou igual ao saldo\n",
    "\n",
    "    def saque(self, valor):\n",
    "        if(self.__pode_sacar(valor)):\n",
    "            self.__saldo -= valor\n",
    "        else:\n",
    "            print(f\"O valor {valor} passou o limite\")\n",
    "    \n",
    "    def extrato(self):\n",
    "        print(f\"Saldo do titular {self.__titular} é {self.__saldo}\")\n",
    "\n",
    "conta001 = ContaSiteDeApostas(\"Nico\", 1000)\n",
    "\n",
    "conta001.saque(1500)\n",
    "\n",
    "conta001.extrato()\n"
   ]
  },
  {
   "cell_type": "code",
   "execution_count": 49,
   "metadata": {},
   "outputs": [
    {
     "data": {
      "text/plain": [
       "'Inglês'"
      ]
     },
     "execution_count": 49,
     "metadata": {},
     "output_type": "execute_result"
    }
   ],
   "source": [
    "class Aluno:\n",
    "    def __init__(self, nome):\n",
    "        self.__nome = nome\n",
    "    \n",
    "    @property\n",
    "    def nome(self):\n",
    "        return self.__nome\n",
    "\n",
    "    @staticmethod\n",
    "    def curso():\n",
    "        return \"Inglês\"\n",
    "\n",
    "aluno_marcos = Aluno(\"Marcos\")\n",
    "\n",
    "aluno_marcos.curso()\n",
    "\n",
    "Aluno.curso()"
   ]
  }
 ],
 "metadata": {
  "kernelspec": {
   "display_name": "Python 3",
   "language": "python",
   "name": "python3"
  },
  "language_info": {
   "codemirror_mode": {
    "name": "ipython",
    "version": 3
   },
   "file_extension": ".py",
   "mimetype": "text/x-python",
   "name": "python",
   "nbconvert_exporter": "python",
   "pygments_lexer": "ipython3",
   "version": "3.10.6"
  },
  "orig_nbformat": 4
 },
 "nbformat": 4,
 "nbformat_minor": 2
}
