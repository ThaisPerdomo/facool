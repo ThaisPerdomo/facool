{
 "cells": [
  {
   "attachments": {},
   "cell_type": "markdown",
   "metadata": {},
   "source": [
    "# POO"
   ]
  },
  {
   "cell_type": "code",
   "execution_count": 5,
   "metadata": {},
   "outputs": [
    {
     "name": "stdout",
     "output_type": "stream",
     "text": [
      "Saldo é 75.0\n",
      "Saldo é 65.0\n"
     ]
    }
   ],
   "source": [
    "def cria_conta(numero, titular, saldo, limite):\n",
    "    conta = {\"numero\": numero, \"titular\": titular, \"saldo\": saldo, \"limite\": limite}\n",
    "    return conta\n",
    "\n",
    "def deposita(conta, valor):\n",
    "    conta[\"saldo\"] += valor\n",
    "\n",
    "def saca(conta, valor):\n",
    "    conta[\"saldo\"] -= valor\n",
    "\n",
    "def extrato(conta):\n",
    "    print(f\"Saldo é {conta['saldo']}\")\n",
    "\n",
    "\n",
    "conta = cria_conta(123, \"Nico\", 55.0, 1000.0)\n",
    "\n",
    "deposita(conta, 20)\n",
    "\n",
    "extrato(conta)\n",
    "\n",
    "saca(conta, 10)\n",
    "\n",
    "extrato(conta)"
   ]
  },
  {
   "cell_type": "code",
   "execution_count": 11,
   "metadata": {},
   "outputs": [
    {
     "name": "stdout",
     "output_type": "stream",
     "text": [
      "<__main__.Conta object at 0x000001CD23BA77C0>\n"
     ]
    }
   ],
   "source": [
    "## Criando uma classe vazia\n",
    "\n",
    "class Conta1:\n",
    "    \n",
    "    pass \n",
    "\n",
    "# pass é uma palavra reservada do Python que diz que não há nada dentro da classe\n",
    "\n",
    "conta1 = Conta1()\n",
    "print(conta1)"
   ]
  },
  {
   "attachments": {},
   "cell_type": "markdown",
   "metadata": {},
   "source": [
    "### Construtor e métodos"
   ]
  },
  {
   "cell_type": "code",
   "execution_count": 30,
   "metadata": {},
   "outputs": [
    {
     "name": "stdout",
     "output_type": "stream",
     "text": [
      "Saldo do titular Nico é 555.0\n",
      "Depósito de 100 realizado com sucesso\n",
      "Saldo do titular Nico é 655.0\n",
      "Saque de 50 realizado com sucesso\n"
     ]
    }
   ],
   "source": [
    "class Conta():\n",
    "    def __init__(self, numero, titular, saldo, limite): # CONSTRUTOR\n",
    "        self.numero = numero\n",
    "        self.titular = titular\n",
    "        self.saldo = saldo\n",
    "        self.limite = limite\n",
    "\n",
    "    def extrato(self): \n",
    "        print(f\"Saldo do titular {self.titular} é {self.saldo}\")\n",
    "\n",
    "    def deposito(self, valor):\n",
    "        self.saldo += valor\n",
    "        print(f\"Depósito de {valor} realizado com sucesso\")\n",
    "    \n",
    "    def saque(self, valor):\n",
    "        self.saldo -= valor\n",
    "        print(f\"Saque de {valor} realizado com sucesso\")\n",
    "\n",
    "conta001 = Conta(1234, \"Nico\", 555.0, 1000.0)\n",
    "\n",
    "conta001.extrato()\n",
    "conta001.deposito(100)\n",
    "conta001.extrato()\n",
    "conta001.saque(50)"
   ]
  },
  {
   "cell_type": "code",
   "execution_count": 31,
   "metadata": {},
   "outputs": [
    {
     "name": "stdout",
     "output_type": "stream",
     "text": [
      "21/11/2007\n"
     ]
    }
   ],
   "source": [
    "# Exercício: imprimindo datas \n",
    "\n",
    "class Data:\n",
    "    def __init__(self, dia, mes, ano):\n",
    "        self.dia = dia\n",
    "        self.mes = mes\n",
    "        self.ano = ano\n",
    "    \n",
    "    def formatada(self):\n",
    "        print(f\"{self.dia}/{self.mes}/{self.ano}\")\n",
    "\n",
    "d = Data(21,11,2007)\n",
    "\n",
    "d.formatada()"
   ]
  }
 ],
 "metadata": {
  "kernelspec": {
   "display_name": "Python 3",
   "language": "python",
   "name": "python3"
  },
  "language_info": {
   "codemirror_mode": {
    "name": "ipython",
    "version": 3
   },
   "file_extension": ".py",
   "mimetype": "text/x-python",
   "name": "python",
   "nbconvert_exporter": "python",
   "pygments_lexer": "ipython3",
   "version": "3.10.6"
  },
  "orig_nbformat": 4
 },
 "nbformat": 4,
 "nbformat_minor": 2
}
