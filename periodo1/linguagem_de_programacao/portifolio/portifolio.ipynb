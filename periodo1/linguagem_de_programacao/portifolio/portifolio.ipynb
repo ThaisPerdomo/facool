{
 "cells": [
  {
   "cell_type": "code",
   "execution_count": 16,
   "metadata": {},
   "outputs": [],
   "source": [
    "# Cálculo do IMC\n",
    "\n",
    "def calculaIMC(peso, altura):\n",
    "    imc = peso / (altura * altura)\n",
    "\n",
    "    if imc < 18.5:\n",
    "        return print('Seu IMC é de {:.2f} e você está abaixo do peso.'.format(imc))\n",
    "    \n",
    "    elif imc >= 18.5 and imc < 25:\n",
    "        return print('Seu IMC é de {:.2f} e você está com o peso normal.'.format(imc))\n",
    "    \n",
    "    elif imc >= 25 and imc < 30:\n",
    "        return print('Seu IMC é de {:.2f} e você está com sobrepeso.'.format(imc))\n",
    "    \n",
    "    else:\n",
    "        return print('Seu IMC é de {:.2f} e você está com obesidade.'.format(imc))\n"
   ]
  },
  {
   "cell_type": "code",
   "execution_count": 18,
   "metadata": {},
   "outputs": [
    {
     "name": "stdout",
     "output_type": "stream",
     "text": [
      "Seu IMC é de 19.07 e você está com o peso normal.\n"
     ]
    }
   ],
   "source": [
    "peso = float(input('Digite seu peso, em quilos: '))\n",
    "altura = float(input('Digite sua altura, em metros: '))\n",
    "\n",
    "calculaIMC(peso, altura)\n",
    "    "
   ]
  }
 ],
 "metadata": {
  "kernelspec": {
   "display_name": "lerdomo",
   "language": "python",
   "name": "python3"
  },
  "language_info": {
   "codemirror_mode": {
    "name": "ipython",
    "version": 3
   },
   "file_extension": ".py",
   "mimetype": "text/x-python",
   "name": "python",
   "nbconvert_exporter": "python",
   "pygments_lexer": "ipython3",
   "version": "3.10.10"
  },
  "orig_nbformat": 4
 },
 "nbformat": 4,
 "nbformat_minor": 2
}
