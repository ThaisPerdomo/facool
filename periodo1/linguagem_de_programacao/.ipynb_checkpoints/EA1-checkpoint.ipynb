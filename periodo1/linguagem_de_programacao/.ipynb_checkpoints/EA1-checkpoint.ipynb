{
 "cells": [
  {
   "attachments": {},
   "cell_type": "markdown",
   "metadata": {},
   "source": [
    "# Formas de se mencionar uma variável"
   ]
  },
  {
   "cell_type": "code",
   "execution_count": 8,
   "metadata": {},
   "outputs": [
    {
     "name": "stdout",
     "output_type": "stream",
     "text": [
      "Vc falou: \n"
     ]
    }
   ],
   "source": [
    "# Formas de se mencionar uma variável: formatadores de caracteres\n",
    "algo = input('Insira qualquer coisa: ')\n",
    "print('Vc falou: %s' %algo )"
   ]
  },
  {
   "cell_type": "code",
   "execution_count": 9,
   "metadata": {},
   "outputs": [
    {
     "name": "stdout",
     "output_type": "stream",
     "text": [
      "Vc falou: \n"
     ]
    }
   ],
   "source": [
    "# Formas de se mencionar uma variável: função format()\n",
    "outra = input('Insira outra coisa: ')\n",
    "print('Vc falou: {}'.format(outra))"
   ]
  },
  {
   "cell_type": "code",
   "execution_count": 10,
   "metadata": {},
   "outputs": [
    {
     "name": "stdout",
     "output_type": "stream",
     "text": [
      "Foi isso: \n"
     ]
    }
   ],
   "source": [
    "# Formas de se mencionar uma variável: string formatada\n",
    "maisoutra = input('Insira outra coisa: ')\n",
    "print(f'Foi isso: {maisoutra}')"
   ]
  },
  {
   "attachments": {},
   "cell_type": "markdown",
   "metadata": {},
   "source": [
    "# Condicionais e repetições"
   ]
  },
  {
   "cell_type": "code",
   "execution_count": 1,
   "metadata": {},
   "outputs": [
    {
     "name": "stdout",
     "output_type": "stream",
     "text": [
      "O número é positivo\n"
     ]
    }
   ],
   "source": [
    "#Condicionais\n",
    "n1 = int(input('Insira um número: '))\n",
    "\n",
    "if n1 > 0:\n",
    "    print('O número é positivo')\n",
    "elif n1 < 0:\n",
    "    print('O número é negativo')\n",
    "else:\n",
    "    print('O número é zero')"
   ]
  },
  {
   "cell_type": "code",
   "execution_count": null,
   "metadata": {},
   "outputs": [],
   "source": [
    "# Estruturas Lógicas\n",
    "qnt_faltas = int(input('Quantas faltas vc teve? '))\n",
    "media_final = float(input('Qual foi a sua média final? '))\n",
    "if qnt_faltas <= 20 and media_final >= 7:\n",
    "    print('Você foi aprovado!')\n",
    "else:\n",
    "    print('Você foi reprovado!')\n",
    "    "
   ]
  },
  {
   "cell_type": "code",
   "execution_count": null,
   "metadata": {},
   "outputs": [
    {
     "name": "stdout",
     "output_type": "stream",
     "text": [
      "Teve copa em 1930\n",
      "Teve copa em 1934\n",
      "Teve copa em 1938\n",
      "Teve copa em 1942\n",
      "Teve copa em 1946\n",
      "Teve copa em 1950\n",
      "Teve copa em 1954\n",
      "Teve copa em 1958\n",
      "Teve copa em 1962\n",
      "Teve copa em 1966\n",
      "Teve copa em 1970\n",
      "Teve copa em 1974\n",
      "Teve copa em 1978\n",
      "Teve copa em 1982\n",
      "Teve copa em 1986\n",
      "Teve copa em 1990\n",
      "Teve copa em 1994\n",
      "Teve copa em 1998\n",
      "Teve copa em 2002\n",
      "Teve copa em 2006\n",
      "Teve copa em 2010\n",
      "Teve copa em 2014\n",
      "Teve copa em 2018\n",
      "Teve copa em 2022\n"
     ]
    }
   ],
   "source": [
    "# Estruturas de repetição: while\n",
    "anoCopa = 1930\n",
    "\n",
    "while anoCopa <= 2023:\n",
    "    print(f'Teve copa em {anoCopa}');\n",
    "    anoCopa = anoCopa + 4;\n",
    "\n"
   ]
  },
  {
   "cell_type": "code",
   "execution_count": null,
   "metadata": {},
   "outputs": [
    {
     "name": "stdout",
     "output_type": "stream",
     "text": [
      "azul\n",
      "vermelho\n",
      "verde\n"
     ]
    }
   ],
   "source": [
    "cores = ['azul', 'vermelho', 'verde']\n",
    "\n",
    "for cor in cores:\n",
    "    print(cor)"
   ]
  },
  {
   "cell_type": "code",
   "execution_count": null,
   "metadata": {},
   "outputs": [],
   "source": [
    "def search_number_in_list(lista, numero):\n",
    "\n",
    "    for elemento in lista:\n",
    "        if elemento == numero:\n",
    "            return True \n",
    "    return False\n",
    "\n",
    "## Atenção aqui pro return!!!! Não colocar um else, pois se não ele vai retornar False mesmo se o número estiver na lista \n",
    "## Isso porque o primeiro número é o 9, ele vai retornar um False (se não for o número procurado) e vai finalizar a função\n",
    "## Mas, colocando o return false depois do for, ele vai retornar o False somente se o número não estiver na lista, porque é quando ele vai finalizar a função\n",
    "\n",
    "numeros = [9, 7, 5, 3, 1, 2, 4, 6, 8, 10]\n",
    "\n",
    "search_number_in_list(numeros, 3)"
   ]
  },
  {
   "cell_type": "code",
   "execution_count": null,
   "metadata": {},
   "outputs": [
    {
     "name": "stdout",
     "output_type": "stream",
     "text": [
      "0 - t\n",
      "1 - h\n",
      "2 - a\n",
      "3 - i\n",
      "4 - s\n"
     ]
    }
   ],
   "source": [
    "nome = 'thais'\n",
    "\n",
    "for i, letra in enumerate(nome):\n",
    "    print(f'{i} - {letra}')"
   ]
  },
  {
   "cell_type": "code",
   "execution_count": null,
   "metadata": {},
   "outputs": [
    {
     "name": "stdout",
     "output_type": "stream",
     "text": [
      "0\n",
      "2\n",
      "4\n",
      "6\n",
      "8\n",
      "10\n"
     ]
    }
   ],
   "source": [
    "for numerosparesate10 in range(0,11,2):\n",
    "    print(numerosparesate10)"
   ]
  },
  {
   "attachments": {},
   "cell_type": "markdown",
   "metadata": {},
   "source": [
    "# Funções"
   ]
  },
  {
   "cell_type": "code",
   "execution_count": null,
   "metadata": {},
   "outputs": [
    {
     "name": "stdout",
     "output_type": "stream",
     "text": [
      "Mesa 1: 110.0 :::: Mesa 2: 100\n"
     ]
    }
   ],
   "source": [
    "# Função com parâmetro default\n",
    "\n",
    "def totalDaConta(valor, taxa = 0.1):\n",
    "    return valor + valor * taxa\n",
    "\n",
    "mesa1 = totalDaConta(100) # Vai usar o valor default da taxa\n",
    "mesa2 = totalDaConta(100, 0) # Vai usar o valor passado como parâmetro\n",
    "\n",
    "print(f\"Mesa 1: {mesa1} :::: Mesa 2: {mesa2}\")"
   ]
  },
  {
   "cell_type": "code",
   "execution_count": 12,
   "metadata": {},
   "outputs": [
    {
     "name": "stdout",
     "output_type": "stream",
     "text": [
      "THAIS\n"
     ]
    }
   ],
   "source": [
    "#Função com parâmetro que não importa a ordem\n",
    "\n",
    "def capslock(texto, capslock):\n",
    "    if capslock:\n",
    "        return texto.upper()\n",
    "    else:\n",
    "        return texto.lower()\n",
    "\n",
    "print(capslock(capslock = True, texto = 'Thais'))"
   ]
  },
  {
   "cell_type": "code",
   "execution_count": 13,
   "metadata": {},
   "outputs": [
    {
     "name": "stdout",
     "output_type": "stream",
     "text": [
      "5\n"
     ]
    }
   ],
   "source": [
    "# Função anonima\n",
    "\n",
    "somar = lambda x, y: x + y\n",
    "\n",
    "print(somar(2, 3))"
   ]
  }
 ],
 "metadata": {
  "kernelspec": {
   "display_name": "Python 3",
   "language": "python",
   "name": "python3"
  },
  "language_info": {
   "codemirror_mode": {
    "name": "ipython",
    "version": 3
   },
   "file_extension": ".py",
   "mimetype": "text/x-python",
   "name": "python",
   "nbconvert_exporter": "python",
   "pygments_lexer": "ipython3",
   "version": "3.10.6"
  },
  "orig_nbformat": 4,
  "vscode": {
   "interpreter": {
    "hash": "369f2c481f4da34e4445cda3fffd2e751bd1c4d706f27375911949ba6bb62e1c"
   }
  }
 },
 "nbformat": 4,
 "nbformat_minor": 2
}
