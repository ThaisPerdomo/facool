{
 "cells": [
  {
   "attachments": {},
   "cell_type": "markdown",
   "metadata": {},
   "source": [
    "# Algoritmos de busca"
   ]
  },
  {
   "attachments": {},
   "cell_type": "markdown",
   "metadata": {},
   "source": [
    "### Linear"
   ]
  },
  {
   "cell_type": "code",
   "execution_count": 2,
   "metadata": {},
   "outputs": [
    {
     "name": "stdout",
     "output_type": "stream",
     "text": [
      "Tem 2 na lista? de numeros_pares? True\n",
      "Tem 3 na lista? de numeros_pares? False\n",
      "O número 5 é ausente na lista? True\n"
     ]
    }
   ],
   "source": [
    "numeros_pares = [2, 4, 6, 8, 10, 12, 14, 16, 18, 20]\n",
    "\n",
    "print('Tem 2 na lista? de numeros_pares?' , 2 in numeros_pares)\n",
    "print('Tem 3 na lista? de numeros_pares?' , 3 in numeros_pares)\n",
    "print('O número 5 é ausente na lista?', 5 not in numeros_pares)"
   ]
  },
  {
   "cell_type": "code",
   "execution_count": 49,
   "metadata": {},
   "outputs": [
    {
     "data": {
      "text/plain": [
       "True"
      ]
     },
     "execution_count": 49,
     "metadata": {},
     "output_type": "execute_result"
    }
   ],
   "source": [
    "def search_number_in_list(lista, numero):\n",
    "\n",
    "    for elemento in lista:\n",
    "        if elemento == numero:\n",
    "            return True \n",
    "    return False\n",
    "\n",
    "numeros = [9, 7, 5, 3, 1, 2, 4, 6, 8, 10]\n",
    "\n",
    "search_number_in_list(numeros, 3)"
   ]
  },
  {
   "attachments": {},
   "cell_type": "markdown",
   "metadata": {},
   "source": [
    "### Busca binária"
   ]
  },
  {
   "cell_type": "code",
   "execution_count": 9,
   "metadata": {},
   "outputs": [
    {
     "data": {
      "text/plain": [
       "True"
      ]
     },
     "execution_count": 9,
     "metadata": {},
     "output_type": "execute_result"
    }
   ],
   "source": [
    "## Criando uma função que verificia se um número está na lista :-D\n",
    "\n",
    "def busca_binaria(lista, valor):\n",
    "    primeiro_indice = 0 # primeiro indice da lista\n",
    "    ultimo_indice = len(lista) - 1 # ultimo indice da lista, tem que subtrair 1 pois o indice começa em 0\n",
    "\n",
    "    while primeiro_indice <= ultimo_indice:\n",
    "        ## Enquanto o primeiro indice for menor ou igual ao ultimo indice, o loop continua\n",
    "        meio = (primeiro_indice + ultimo_indice) // 2\n",
    "        ## Aqui, o meio é calculado, pegando o primeiro indice e o ultimo indice e fazendo a média\n",
    "\n",
    "        if lista[meio] == valor:\n",
    "            return True # Se o valor buscado for exatamente ao valor do índice do meio, ele é retornado \n",
    "        \n",
    "        elif lista[meio] > valor:\n",
    "            ultimo_indice = meio - 1 # Se o valor do índice do meio for MAIOR que o valor dado, a variável do ultimo indice é atualizada para esse meio, subtraindo 1\n",
    "            ## Isso faz com que o loop continue, mas agora o ultimo indice é o meio, e o primeiro indice continua o mesmo, reduzindo o espaço de busca pela metade (e, depois a metade da metade, e assim por diante)\n",
    "        else:\n",
    "            primeiro_indice = meio + 1 ## Já aqui é o contrário, se o valor do meio for MENOR que o valor dado, o primeiro indice é atualizado para o meio + 1\n",
    "        \n",
    "    return False ## Ele só sai do loop quando o primeiro indice for maior que o ultimo indice, ou seja, quando o valor não está na lista, e retorna False\n",
    "\n",
    "lista = [1, 2, 3, 4, 5, 6, 8, 9, 10]\n",
    "\n",
    "busca_binaria(lista, 4)\n",
    "            "
   ]
  },
  {
   "attachments": {},
   "cell_type": "markdown",
   "metadata": {},
   "source": [
    "# Algoritmos de Ordenação"
   ]
  },
  {
   "cell_type": "code",
   "execution_count": 12,
   "metadata": {},
   "outputs": [
    {
     "name": "stdout",
     "output_type": "stream",
     "text": [
      "[1, 2, 3, 5, 6, 8, 9]\n"
     ]
    }
   ],
   "source": [
    "def selection_sort(lista):\n",
    "    n = len(lista)\n",
    "\n",
    "    for i in range(0, n):\n",
    "    \n",
    "        min_index = i\n",
    "\n",
    "        for j in range(i+1, n):\n",
    "            if lista[j] < lista[min_index]:\n",
    "                min_index = j\n",
    "\n",
    "        lista[i], lista[min_index] = lista[min_index], lista[i]\n",
    "    \n",
    "    return lista\n",
    "\n",
    "lista_de_numeros = [8, 5, 2, 9, 1, 6, 3]\n",
    "\n",
    "print(selection_sort(lista_de_numeros))\n",
    "    "
   ]
  },
  {
   "cell_type": "code",
   "execution_count": 16,
   "metadata": {},
   "outputs": [
    {
     "name": "stdout",
     "output_type": "stream",
     "text": [
      "[1, 2, 3, 5, 6, 8, 9]\n"
     ]
    }
   ],
   "source": [
    "def bubble_sort(lista):\n",
    "    n = len(lista)\n",
    "\n",
    "    for j in range(n-1):\n",
    "        for i in range(n-1):\n",
    "            if lista[i] > lista[i+1]:\n",
    "\n",
    "                lista[i], lista[i+1] = lista[i+1], lista[i]\n",
    "        \n",
    "    return lista\n",
    "\n",
    "lista_de_numeros = [8, 5, 2, 9, 1, 6, 3]\n",
    "\n",
    "print(bubble_sort(lista_de_numeros))"
   ]
  },
  {
   "cell_type": "code",
   "execution_count": null,
   "metadata": {},
   "outputs": [],
   "source": []
  }
 ],
 "metadata": {
  "kernelspec": {
   "display_name": "Python 3",
   "language": "python",
   "name": "python3"
  },
  "language_info": {
   "codemirror_mode": {
    "name": "ipython",
    "version": 3
   },
   "file_extension": ".py",
   "mimetype": "text/x-python",
   "name": "python",
   "nbconvert_exporter": "python",
   "pygments_lexer": "ipython3",
   "version": "3.10.6"
  },
  "orig_nbformat": 4
 },
 "nbformat": 4,
 "nbformat_minor": 2
}
